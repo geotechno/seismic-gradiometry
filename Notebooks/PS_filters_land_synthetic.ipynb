{
 "cells": [
  {
   "cell_type": "code",
   "execution_count": 58,
   "metadata": {},
   "outputs": [],
   "source": [
    "# import libraries \n",
    "# ----------------\n",
    "%matplotlib notebook\n",
    "import warnings\n",
    "warnings.filterwarnings(\"ignore\")\n",
    "import numpy as np\n",
    "import matplotlib.pyplot as plt"
   ]
  },
  {
   "cell_type": "code",
   "execution_count": 59,
   "metadata": {},
   "outputs": [],
   "source": [
    "# load SU file \n",
    "# ------------\n",
    "from obspy.io.segy.segy import _read_su\n",
    "vx = _read_su('shot_vx_full_zsource_1800_900.su', endian='<') # recorded vx\n",
    "vz = _read_su('shot_vz_full_zsource_1800_900.su', endian='<') # recorded vz\n",
    "# convert them to numpy array\n",
    "vx = (np.stack(i.data for i in vx.traces)).reshape(60001,2000)\n",
    "vz = (np.stack(i.data for i in vz.traces)).reshape(60001,2000)"
   ]
  },
  {
   "cell_type": "code",
   "execution_count": 60,
   "metadata": {},
   "outputs": [],
   "source": [
    "# initialize parameter \n",
    "# --------------------\n",
    "nx = vx.shape[1] # number of cells in x direction\n",
    "dx = 0.25        # cell size\n",
    "dt = 5e-6        # time step\n",
    "alpha = 1800     # P-wave velocity\n",
    "beta = 900       # S-wave velocity\n",
    "rho = 1600       # density"
   ]
  },
  {
   "cell_type": "code",
   "execution_count": null,
   "metadata": {
    "code_folding": []
   },
   "outputs": [],
   "source": [
    "# calculate wavefield gradients \n",
    "# -----------------------------\n",
    "from sympy.calculus import finite_diff_weights # see http://docs.sympy.org/latest/modules/calculus/index.html\n",
    "c = finite_diff_weights(1, [-3/2, -1/2, 1/2, 3/2], 0) # FD coefficients according to Fornberg (1988)\n",
    "c = c[-1][-1] # FD weights for 1st derivative\n",
    "\n",
    "# allocate zero gradients\n",
    "gradx_vx = np.zeros((vx.shape[0],nx))\n",
    "gradx_vz = np.zeros((vx.shape[0],nx))\n",
    "\n",
    "for n in range(2,(vx.shape[1])-2):\n",
    "    # horizontal gradients of vx\n",
    "    gradx_vx[:,n] = ((c[0]*vx[:,n-2]) + (c[1]*vx[:,n-1]) + (c[2]*vx[:,n])   + (c[3]*vx[:,n+1])) / dx\n",
    "    # horizontal gradients of vz\n",
    "    gradx_vz[:,n] = ((c[0]*vz[:,n-1]) + (c[1]*vz[:,n])   + (c[2]*vz[:,n+1]) + (c[3]*vz[:,n+2])) / dx\n",
    "    \n",
    "# P/S separation \n",
    "# --------------\n",
    "# upgoing P-wave on vz\n",
    "vz_P_up = (1/2.) *(vz + ((beta*((2*beta)/alpha)) * (gradx_vx.cumsum(axis=0)*dt))) \n",
    "# upgoing S-wave on vx\n",
    "vx_S_up = (1/2.) *(vx - ((2*beta) * (gradx_vz.cumsum(axis=0)*dt))) "
   ]
  },
  {
   "cell_type": "code",
   "execution_count": null,
   "metadata": {},
   "outputs": [],
   "source": [
    "# plotting configuration \n",
    "# ----------------------\n",
    "figure()\n",
    "\n",
    "# recorded vz\n",
    "subplot(2,2,1)\n",
    "set(gcf, 'color', 'w')\n",
    "set (gca, 'Fontsize', 20)\n",
    "imagesc(vz); caxis([-1 1]/4e8)\n",
    "xlabel('Incidence angle ({\\circ})', 'Fontsize',20)\n",
    "set(gca,'XTick', [1000 1035 1071 1107 1146 1187 1231 1280 1336 1400 1477])\n",
    "set(gca,'XTickLabel',{'0', '','','','' '25','','','','', '50'})\n",
    "ylabel('Time (s)', 'Fontsize',20)\n",
    "set(gca,'YTick', [1 10000 20000 30000 40000 50000 60000])\n",
    "set(gca,'YTickLabel',{'0.00', '', '0.10', '', '0.20', '', '0.30'})\n",
    "title('Recorded v_z', 'Fontsize',20)\n",
    "axis([1000 1477 0 60000])\n",
    "colormap('cs_bluewhitered')\n",
    "\n",
    "# P/S separated upgoing vz\n",
    "subplot(2,2,3)\n",
    "set(gcf, 'color', 'w')\n",
    "set (gca, 'Fontsize', 20)\n",
    "imagesc(vz_P_up); caxis([-1 1]/4e8)\n",
    "xlabel('Incidence angle ({\\circ})', 'Fontsize',20);\n",
    "set(gca,'XTick', [1000 1035 1071 1107 1146 1187 1231 1280 1336 1400 1477])\n",
    "set(gca,'XTickLabel',{'0', '','','','' '25','','','','', '50'})\n",
    "ylabel('Time (s)', 'Fontsize',20)\n",
    "set(gca,'YTick', [1 10000 20000 30000 40000 50000 60000])\n",
    "set(gca,'YTickLabel',{'0.00', '', '0.10', '', '0.20', '', '0.30'})\n",
    "title('Upgoing P-wave on v_z - filters', 'Fontsize',20)\n",
    "axis([1000 1477 0 60000])\n",
    "colormap('cs_bluewhitered')\n",
    "\n",
    "# recorded vx\n",
    "subplot(2,2,2)\n",
    "set(gcf, 'color', 'w')\n",
    "set (gca, 'Fontsize', 20)\n",
    "imagesc(vx); caxis([-1 1]/4e8)\n",
    "xlabel('Incidence angle ({\\circ})', 'Fontsize',20)\n",
    "set(gca,'XTick', [1000 1035 1071 1107 1146 1187 1231 1280 1336 1400 1477])\n",
    "set(gca,'XTickLabel',{'0', '','','','' '25','','','','', '50'})\n",
    "ylabel('Time (s)', 'Fontsize',20)\n",
    "set(gca,'YTick', [1 10000 20000 30000 40000 50000 60000]);\n",
    "set(gca,'YTickLabel',{'0.00', '', '0.10', '', '0.20', '', '0.30'})\n",
    "title('Recorded v_x', 'Fontsize',20)\n",
    "axis([1000 1477 0 60000])\n",
    "colormap('cs_bluewhitered')\n",
    "\n",
    "# P/S separated upgoing vx\n",
    "subplot(2,2,4)\n",
    "set(gcf, 'color', 'w')\n",
    "set (gca, 'Fontsize', 20);\n",
    "imagesc(vx_S_up); caxis([-1 1]/4e8)\n",
    "xlabel('Incidence angle ({\\circ})', 'Fontsize',20)\n",
    "set(gca,'XTick', [1000 1035 1071 1107 1146 1187 1231 1280 1336 1400 1477])\n",
    "set(gca,'XTickLabel',{'0', '','','','' '25','','','','', '50'})\n",
    "ylabel('Time (s)', 'Fontsize',20)\n",
    "set(gca,'YTick', [1 10000 20000 30000 40000 50000 60000]);\n",
    "set(gca,'YTickLabel',{'0.00', '', '0.10', '', '0.20', '', '0.30'})\n",
    "title('Upgoing S-wave on v_x - filters', 'Fontsize',20)\n",
    "axis([1000 1477 0 60000])\n",
    "colormap('cs_bluewhitered')\n",
    "\n",
    "plt.show()"
   ]
  }
 ],
 "metadata": {
  "kernelspec": {
   "display_name": "Python 3",
   "language": "python",
   "name": "python3"
  },
  "language_info": {
   "codemirror_mode": {
    "name": "ipython",
    "version": 3
   },
   "file_extension": ".py",
   "mimetype": "text/x-python",
   "name": "python",
   "nbconvert_exporter": "python",
   "pygments_lexer": "ipython3",
   "version": "3.6.4"
  }
 },
 "nbformat": 4,
 "nbformat_minor": 2
}
