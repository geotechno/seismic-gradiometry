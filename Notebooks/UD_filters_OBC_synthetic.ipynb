{
 "cells": [
  {
   "cell_type": "code",
   "execution_count": 1,
   "metadata": {},
   "outputs": [],
   "source": [
    "# import libraries \n",
    "# ----------------\n",
    "%matplotlib notebook\n",
    "import warnings\n",
    "warnings.filterwarnings(\"ignore\")\n",
    "import numpy as np\n",
    "import matplotlib.pyplot as plt"
   ]
  },
  {
   "cell_type": "code",
   "execution_count": 150,
   "metadata": {},
   "outputs": [
    {
     "data": {
      "text/plain": [
       "[('vx', (52000, 2400), 'double'),\n",
       " ('vz', (52000, 2400), 'double'),\n",
       " ('pressure', (52000, 2400), 'double'),\n",
       " ('vx_inj', (52000, 2400), 'double'),\n",
       " ('vz_inj', (52000, 2400), 'double'),\n",
       " ('pressure_inj', (52000, 2400), 'double'),\n",
       " ('vx_up', (52000, 2400), 'double'),\n",
       " ('vz_up', (52000, 2400), 'double')]"
      ]
     },
     "execution_count": 150,
     "metadata": {},
     "output_type": "execute_result"
    }
   ],
   "source": [
    "# check .mat file \n",
    "# ---------------\n",
    "from scipy.io import whosmat\n",
    "whosmat('OBC_synthetic_data_UD.mat') # to list variables inside mat file"
   ]
  },
  {
   "cell_type": "code",
   "execution_count": 37,
   "metadata": {},
   "outputs": [],
   "source": [
    "# load .mat file \n",
    "# --------------\n",
    "from scipy.io import loadmat\n",
    "mat = loadmat('OBC_synthetic_data_UD.mat')  # to load mat file\n",
    "# convert them to numpy array\n",
    "vx = mat['vx']\n",
    "vz = mat['vz']\n",
    "vx_up = mat['vx_up']\n",
    "vz_up = mat['vz_up']\n",
    "vx_inj = mat['vx_inj']\n",
    "vz_inj = mat['vz_inj']\n",
    "pressure     = mat['pressure']\n",
    "pressure_inj = mat['pressure_inj']"
   ]
  },
  {
   "cell_type": "code",
   "execution_count": 42,
   "metadata": {},
   "outputs": [],
   "source": [
    "# initialize parameter \n",
    "# --------------------\n",
    "nx = vx.shape[1] # number of cells in x direction\n",
    "dx = 0.25        # cell size\n",
    "dt = 5e-6        # time step\n",
    "alpha = 1800     # P-wave velocity\n",
    "beta = 700       # S-wave velocity\n",
    "rho = 1600       # density"
   ]
  },
  {
   "cell_type": "code",
   "execution_count": null,
   "metadata": {},
   "outputs": [],
   "source": [
    "# calculate wavefield gradients \n",
    "# -----------------------------\n",
    "from sympy.calculus import finite_diff_weights # see http://docs.sympy.org/latest/modules/calculus/index.html\n",
    "c = finite_diff_weights(1, [-3/2, -1/2, 1/2, 3/2], 0) # FD coefficients according to Fornberg (1988)\n",
    "c = c[-1][-1] # FD weights for 1st derivative\n",
    "\n",
    "# allocate zero gradients\n",
    "gradx_vx = np.zeros((vx.shape[0],nx))\n",
    "gradx_vz = np.zeros((vx.shape[0],nx))\n",
    "\n",
    "for n in range(2,(vx.shape[1])-2):\n",
    "    # horizontal gradients of vx\n",
    "    gradx_vx[:,n] = ((c[0]*vx[:,n-1]) + (c[1]*vx[:,n])   + (c[2]*vx[:,n+1]) + (c[3]*vx[:,n+2])) / dx\n",
    "    # horizontal gradients of vz\n",
    "    gradx_vz[:,n] = ((c[0]*vz[:,n-2]) + (c[1]*vz[:,n-1]) + (c[2]*vz[:,n])   + (c[3]*vz[:,n+1])) / dx\n",
    "\n",
    "# up/down separation \n",
    "# ------------------\n",
    "# upgoing vx\n",
    "vx_up       = (1/2.) * (vx + ((alpha*(1 - ((2*beta)/alpha))) * (gradx_vz.cumsum(axis=0)*dt))) \n",
    "# upgoing vz\n",
    "vz_up       = (1/2.) * (vz - (( beta*(1 - ((2*beta)/alpha))) * (gradx_vx.cumsum(axis=0)*dt)) - ((1/(rho*alpha))*pressure)) \n",
    "# upgoing pressure\n",
    "pressure_up = (1/2.) * (pressure - ((alpha * rho) * vz)) "
   ]
  },
  {
   "cell_type": "code",
   "execution_count": null,
   "metadata": {},
   "outputs": [],
   "source": [
    "# plotting configuration \n",
    "# ----------------------\n",
    "figure()\n",
    "\n",
    "# recorded vz\n",
    "subplot(2,3,1)\n",
    "set(gcf, 'color', 'w');\n",
    "set (gca, 'Fontsize', 20);\n",
    "imagesc(vz); caxis([-1 1]/1e8)\n",
    "xlabel('Distance (m)', 'Fontsize',20);\n",
    "set(gca,'XTick', [600 1200 1800])\n",
    "set(gca,'XTickLabel',{'-150', '0', '150'});\n",
    "ylabel('Time (s)', 'Fontsize',20)\n",
    "set(gca,'YTick', [1 10000 20000 30000 40000 50000 60000]);\n",
    "set(gca,'YTickLabel',{'0.00', '0.05', '0.10', '0.15', '0.20', '0.25', '0.30'});\n",
    "title('Recorded v_z', 'Fontsize',20)\n",
    "colormap('cs_bluewhitered')\n",
    "xlim([500 1900])\n",
    "\n",
    "# upgoing vz - reference solution\n",
    "subplot(2,3,2);\n",
    "set(gcf, 'color', 'w');\n",
    "set (gca, 'Fontsize', 20);\n",
    "imagesc(vz_inj); caxis([-1 1]/1e8)\n",
    "xlabel('Distance (m)', 'Fontsize',20);\n",
    "set(gca,'XTick', [600 1200 1800])\n",
    "set(gca,'XTickLabel',{'-150', '0', '150'});\n",
    "set(gca,'YTick', [10000 15000 20000 25000 30000]);\n",
    "set(gca,'YTickLabel',{'0.050', '0.075', '0.100', '0.125', '0.150'});\n",
    "title('Full vertical wavefield at 50 m', 'Fontsize',20)\n",
    "title('Upoing v_z - reference solution', 'Fontsize',20)\n",
    "set(gca,'YTick', [1 10000 20000 30000 40000 50000 60000]);\n",
    "set(gca,'YTickLabel',{'0.00', '0.05', '0.10', '0.15', '0.20', '0.25', '0.30'});\n",
    "colormap(cs_bluewhitered)\n",
    "xlim([500 1900])\n",
    "\n",
    "# upgoing vz - filters\n",
    "subplot(2,3,3);\n",
    "set(gcf, 'color', 'w');\n",
    "set (gca, 'Fontsize', 20);\n",
    "imagesc(vz_up); caxis([-1 1]/1e8)\n",
    "set(gca,'XTick', [600 1200 1800])\n",
    "set(gca,'XTickLabel',{'-150', '0', '150'});\n",
    "xlabel('Distance (m)', 'Fontsize',20);\n",
    "title('Upgoing v_z - filters', 'Fontsize',20)\n",
    "set(gca,'YTick', [1 10000 20000 30000 40000 50000 60000]);\n",
    "set(gca,'YTickLabel',{'0.00', '0.05', '0.10', '0.15', '0.20', '0.25', '0.30'});\n",
    "colormap(cs_bluewhitered)\n",
    "xlim([500 1900])\n",
    "\n",
    "plt.show()"
   ]
  }
 ],
 "metadata": {
  "kernelspec": {
   "display_name": "Python 3",
   "language": "python",
   "name": "python3"
  },
  "language_info": {
   "codemirror_mode": {
    "name": "ipython",
    "version": 3
   },
   "file_extension": ".py",
   "mimetype": "text/x-python",
   "name": "python",
   "nbconvert_exporter": "python",
   "pygments_lexer": "ipython3",
   "version": "3.6.4"
  }
 },
 "nbformat": 4,
 "nbformat_minor": 2
}
