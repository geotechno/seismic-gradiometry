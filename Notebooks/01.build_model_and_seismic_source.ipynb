{
 "cells": [
  {
   "cell_type": "code",
   "execution_count": 2,
   "metadata": {},
   "outputs": [],
   "source": [
    "# import libraries\n",
    "%matplotlib notebook\n",
    "import warnings\n",
    "warnings.filterwarnings(\"ignore\")\n",
    "import numpy as np\n",
    "import matplotlib.pyplot as plt"
   ]
  },
  {
   "cell_type": "code",
   "execution_count": 3,
   "metadata": {},
   "outputs": [
    {
     "name": "stdout",
     "output_type": "stream",
     "text": [
      "min_x: 0.0 m, max_x: 200000.0 m\n",
      "min_y: 0.0 m, max_y: 200000.0 m\n",
      "min_z: -200000.0 m, max_z: 0.0 m\n"
     ]
    }
   ],
   "source": [
    "# model parameters \n",
    "min_x = 0.\n",
    "max_x = 200000.\n",
    "min_y = 0.\n",
    "max_y = 200000.\n",
    "min_z = -200000.\n",
    "max_z = 0.\n",
    "print(\"min_x: {:.1f} m, max_x: {:.1f} m\".format(min_x,max_x))\n",
    "print(\"min_y: {:.1f} m, max_y: {:.1f} m\".format(min_y,max_y))\n",
    "print(\"min_z: {:.1f} m, max_z: {:.1f} m\".format(min_z,max_z))"
   ]
  },
  {
   "cell_type": "code",
   "execution_count": 4,
   "metadata": {},
   "outputs": [
    {
     "name": "stdout",
     "output_type": "stream",
     "text": [
      "hmax: 2000.0 m\n",
      "nelem_x: 100\n",
      "nelem_y: 100\n",
      "nelem_z: 100\n"
     ]
    }
   ],
   "source": [
    "# calculate model's number of elements\n",
    "fmax = 0.5 # maximum frequency in Hz\n",
    "elements_per_wavelength = 3. # resolution criterion\n",
    "min_vel = 3000.\n",
    "hmax =  (min_vel / fmax / elements_per_wavelength) # element size\n",
    "nelem_x = int(np.abs(max_x) / hmax) # number of elements in x domain\n",
    "nelem_y = int(np.abs(max_y) / hmax) # number of elements in y domain\n",
    "nelem_z = int(np.abs(min_z) / hmax) # number of elements in z domain\n",
    "\n",
    "print(\"hmax: {} m\".format(hmax))\n",
    "print(\"nelem_x: {}\".format(nelem_x))\n",
    "print(\"nelem_y: {}\".format(nelem_y))\n",
    "print(\"nelem_z: {}\".format(nelem_z))"
   ]
  },
  {
   "cell_type": "code",
   "execution_count": 5,
   "metadata": {},
   "outputs": [],
   "source": [
    "# build a structured grid\n",
    "from pymesher.structured_grid_3D import StructuredGrid3D\n",
    "\n",
    "sg = StructuredGrid3D.cube(nelem_x=nelem_x,\n",
    "                           nelem_y=nelem_y,\n",
    "                           nelem_z=nelem_z,\n",
    "                           min_x=min_x,\n",
    "                           max_x=max_x,\n",
    "                           min_y=min_y,\n",
    "                           max_y=max_y,\n",
    "                           min_z=min_z,\n",
    "                           max_z=max_z)\n",
    "\n",
    "# convert the structured grid to an unstructured mesh\n",
    "m = sg.get_unstructured_mesh()"
   ]
  },
  {
   "cell_type": "code",
   "execution_count": 6,
   "metadata": {},
   "outputs": [],
   "source": [
    "# from PREM earth model profile at depth 6368-6356 km (homogenenous isotropic model)\n",
    "vp  = 5800. # 5800 m/s\n",
    "vs  = 3200. # 3200 m/s\n",
    "rho = 2600. # 2600 g/cc\n",
    "\n",
    "# attach our model to the actual mesh    \n",
    "m.attach_field(\"VP\",  vp  * np.ones(m.npoint))\n",
    "m.attach_field(\"VS\",  vs  * np.ones(m.npoint))\n",
    "m.attach_field(\"RHO\", rho * np.ones(m.npoint))\n",
    "m.attach_field(\"fluid\",     np.zeros(m.nelem))\n",
    "\n",
    "# find outer boundaries of the domain assuming the domain is rectangular\n",
    "m.find_side_sets(mode='cartesian')\n",
    "\n",
    "# write model in exodus format that can be read by paraview and salvus\n",
    "m.write_exodus(\"/import/deadlock-data/taufiqurrahman/MESS2018/experiment_Maeda2016/mesh_3d_homogeneous.e\")"
   ]
  },
  {
   "cell_type": "code",
   "execution_count": 14,
   "metadata": {
    "code_folding": []
   },
   "outputs": [],
   "source": [
    "# create toml file which contains seismic source position at certain depth \n",
    "with open(\"/import/deadlock-data/taufiqurrahman/MESS2018/experiment_Maeda2016/source.toml\", \"w\") as text_file:\n",
    "    name = \"0000\"\n",
    "    srcLocX = 127539. #125000.\n",
    "    srcLocY = 76823.  #75000.\n",
    "    srcLocZ = -60000.\n",
    "    spatial_type = \"moment_tensor\"\n",
    "    temporal_type = \"ricker\"\n",
    "    scaleX = 1e9\n",
    "    scaleY = 1e9\n",
    "    scaleZ = 1e9\n",
    "    center_frequency = fmax/2 \n",
    "    print(\"\\n[[source]]\", file=text_file)\n",
    "    print(\"name = \\\"{0}\\\"\".format(name), file=text_file)\n",
    "    print(\"location = [{0}, {1}, {2}]\".format(srcLocX, srcLocY, srcLocZ), file=text_file)\n",
    "    print(\"spatial_type = \\\"{0}\\\"\".format(spatial_type), file=text_file)\n",
    "    print(\"temporal_type = \\\"{0}\\\"\".format(temporal_type), file=text_file)\n",
    "    print(\"center_frequency = {0}\".format(center_frequency), file=text_file)\n",
    "    print(\"scale = [{0}, {1}, {2}, 0.0, 0.0, 0.0]\".format(scaleX, scaleY, scaleZ), file=text_file)"
   ]
  },
  {
   "cell_type": "code",
   "execution_count": 15,
   "metadata": {
    "scrolled": true
   },
   "outputs": [
    {
     "name": "stdout",
     "output_type": "stream",
     "text": [
      "\r\n",
      "[[source]]\r\n",
      "name = \"0000\"\r\n",
      "location = [127539.0, 76823.0, -60000.0]\r\n",
      "spatial_type = \"moment_tensor\"\r\n",
      "temporal_type = \"ricker\"\r\n",
      "center_frequency = 0.25\r\n",
      "scale = [1000000000.0, 1000000000.0, 1000000000.0, 0.0, 0.0, 0.0]\r\n"
     ]
    }
   ],
   "source": [
    "! cat /import/deadlock-data/taufiqurrahman/MESS2018/experiment_Maeda2016/source.toml"
   ]
  }
 ],
 "metadata": {
  "kernelspec": {
   "display_name": "Python 3",
   "language": "python",
   "name": "python3"
  },
  "language_info": {
   "codemirror_mode": {
    "name": "ipython",
    "version": 3
   },
   "file_extension": ".py",
   "mimetype": "text/x-python",
   "name": "python",
   "nbconvert_exporter": "python",
   "pygments_lexer": "ipython3",
   "version": "3.6.3"
  }
 },
 "nbformat": 4,
 "nbformat_minor": 2
}
