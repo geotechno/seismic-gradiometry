{
 "cells": [
  {
   "cell_type": "code",
   "execution_count": 5,
   "metadata": {},
   "outputs": [],
   "source": [
    "# import libraries \n",
    "# ----------------\n",
    "%matplotlib notebook\n",
    "import warnings\n",
    "warnings.filterwarnings(\"ignore\")\n",
    "import numpy as np\n",
    "import matplotlib.pyplot as plt"
   ]
  },
  {
   "cell_type": "code",
   "execution_count": 6,
   "metadata": {},
   "outputs": [
    {
     "data": {
      "text/plain": [
       "[('vx', (60000, 2400), 'double'),\n",
       " ('vz', (60000, 2400), 'double'),\n",
       " ('pressure', (60000, 2400), 'double')]"
      ]
     },
     "execution_count": 6,
     "metadata": {},
     "output_type": "execute_result"
    }
   ],
   "source": [
    "# check .mat file \n",
    "# ---------------\n",
    "from scipy.io import whosmat\n",
    "whosmat('OBC_synthetic_data_PS.mat') # to list variables inside mat file"
   ]
  },
  {
   "cell_type": "code",
   "execution_count": 7,
   "metadata": {},
   "outputs": [],
   "source": [
    "# load .mat file \n",
    "# --------------\n",
    "from scipy.io import loadmat\n",
    "mat = loadmat('OBC_synthetic_data_PS.mat')  # to load mat file\n",
    "# convert them to numpy array\n",
    "vx = mat['vx']\n",
    "vz = mat['vz']\n",
    "pressure = mat['pressure']"
   ]
  },
  {
   "cell_type": "code",
   "execution_count": 8,
   "metadata": {},
   "outputs": [],
   "source": [
    "# initialize parameters \n",
    "# ---------------------\n",
    "nx = vx.shape[1] # number of cells in x direction\n",
    "dx = 0.25        # cell size\n",
    "dt = 5e-6        # time step\n",
    "alpha = 1800     # P-wave velocity\n",
    "beta = 700       # S-wave velocity\n",
    "rho = 1600       # density"
   ]
  },
  {
   "cell_type": "code",
   "execution_count": null,
   "metadata": {},
   "outputs": [],
   "source": [
    "# calculate wavefield gradients \n",
    "# -----------------------------\n",
    "from sympy.calculus import finite_diff_weights # see http://docs.sympy.org/latest/modules/calculus/index.html\n",
    "c = finite_diff_weights(1, [-3/2, -1/2, 1/2, 3/2], 0) # FD coefficients according to Fornberg (1988)\n",
    "c = c[-1][-1] # FD weights for 1st derivative\n",
    "\n",
    "# allocate zero gradients\n",
    "gradx_vx       = np.zeros((      vx.shape[0],nx))\n",
    "gradx_vz       = np.zeros((      vz.shape[0],nx))\n",
    "gradx_pressure = np.zeros((pressure.shape[0],nx))\n",
    "\n",
    "for n in range(2,(vx.shape[1]-2)):\n",
    "    # horizontal gradients of vx\n",
    "    gradx_vx[:,n] = ((c[0]*vx[:,n-1]) + (c[1]*vx[:,n])   + (c[2]*vx[:,n+1]) + (c[3]*vx[:,n+2])) / dx\n",
    "    # horizontal gradients of vz\n",
    "    gradx_vz[:,n] = ((c[0]*vz[:,n-2]) + (c[1]*vz[:,n-1]) + (c[2]*vz[:,n])   + (c[3]*vz[:,n+1])) / dx\n",
    "    # horizontal gradient of pressure\n",
    "    gradx_pressure[:,n] = ((c[0]*pressure[:,n-2]) + (c[1]*pressure[:,n-1]) \\\n",
    "                         + (c[2]*pressure[:,n])   + (c[3]*pressure[:,n+1])) / dx\n",
    "    \n",
    "# P/S separation \n",
    "# --------------\n",
    "# upgoing P-wave on vz\n",
    "vz_P_up = (1/2.) * (vz + ((beta*((2*beta)/alpha)) * (gradx_vx.cumsum(axis=0)*dt)) - ((1/(alpha * rho)) * pressure))\n",
    "# upgoing S-wave on vx\n",
    "vx_S_up = (1/2.) * (vx - ((2*beta) * (gradx_vz.cumsum(axis=0)*dt)) + ((1/rho) * (gradx_pressure.cumsum(axis=0)*dt)))"
   ]
  },
  {
   "cell_type": "code",
   "execution_count": null,
   "metadata": {},
   "outputs": [],
   "source": [
    "# plotting configuration \n",
    "# ----------------------\n",
    "figure()\n",
    "\n",
    "# recorded vz\n",
    "subplot(2,2,1)\n",
    "set(gcf, 'color', 'w');\n",
    "set (gca, 'Fontsize', 20);\n",
    "imagesc(vz); caxis([-1 1]/3e1)\n",
    "xlabel('Incidence angle ({\\circ})', 'Fontsize',20);\n",
    "set(gca,'XTick', [1200 1235 1271 1307 1346 1387 1431 1480 1536 1600 1677])\n",
    "set(gca,'XTickLabel',{'0', '','','','' '25','','','','', '50'});\n",
    "ylabel('Time (s)', 'Fontsize',20)\n",
    "set(gca,'YTick', [1 10000 20000 30000 40000 50000 59000]);\n",
    "set(gca,'YTickLabel',{'0.00', '', '0.10', '', '0.20', '', '0.30'});\n",
    "title('Recorded v_z', 'Fontsize',20)\n",
    "axis([1200 1677 1 59000])\n",
    "colormap('cs_bluewhitered')\n",
    "\n",
    "# P/S separated upgoing vz\n",
    "subplot(2,2,3)\n",
    "set(gcf, 'color', 'w');\n",
    "set (gca, 'Fontsize', 20);\n",
    "imagesc(vz_P_up); caxis([-1 1]/3e1)\n",
    "xlabel('Incidence angle ({\\circ})', 'Fontsize',20);\n",
    "set(gca,'XTick', [1200 1235 1271 1307 1346 1387 1431 1480 1536 1600 1677])\n",
    "set(gca,'XTickLabel',{'0', '','','','' '25','','','','', '50'});\n",
    "ylabel('Time (s)', 'Fontsize',20)\n",
    "set(gca,'YTick', [1 10000 20000 30000 40000 50000 59000]);\n",
    "set(gca,'YTickLabel',{'0.00', '', '0.10', '', '0.20', '', '0.30'});\n",
    "title('Upgoing P-wave on v_z - filters', 'Fontsize',20)\n",
    "axis([1200 1677 1 59000])\n",
    "colormap('cs_bluewhitered')\n",
    "\n",
    "# recorded vx\n",
    "subplot(2,2,2)\n",
    "set(gcf, 'color', 'w');\n",
    "set (gca, 'Fontsize', 20);\n",
    "imagesc(vx); caxis([-1 1]/3e1)\n",
    "xlabel('Incidence angle ({\\circ})', 'Fontsize',20);\n",
    "set(gca,'XTick', [1200 1235 1271 1307 1346 1387 1431 1480 1536 1600 1677])\n",
    "set(gca,'XTickLabel',{'0', '','','','' '25','','','','', '50'});\n",
    "ylabel('Time (s)', 'Fontsize',20)\n",
    "set(gca,'YTick', [1 10000 20000 30000 40000 50000 59000]);\n",
    "set(gca,'YTickLabel',{'0.00', '', '0.10', '', '0.20', '', '0.30'});\n",
    "title('Recorded v_x', 'Fontsize',20)\n",
    "axis([1200 1677 1 59000])\n",
    "colormap('cs_bluewhitered')\n",
    "\n",
    "# P/S separated upgoing vx\n",
    "subplot(2,2,4)\n",
    "set(gcf, 'color', 'w');\n",
    "set (gca, 'Fontsize', 20);\n",
    "imagesc(vx_S_up); caxis([-1 1]/3e1)\n",
    "xlabel('Incidence angle ({\\circ})', 'Fontsize',20);\n",
    "set(gca,'XTick', [1200 1235 1271 1307 1346 1387 1431 1480 1536 1600 1677])\n",
    "set(gca,'XTickLabel',{'0', '','','','' '25','','','','', '50'});\n",
    "ylabel('Time (s)', 'Fontsize',20)\n",
    "set(gca,'YTick', [1 10000 20000 30000 40000 50000 59000]);\n",
    "set(gca,'YTickLabel',{'0.00', '', '0.10', '', '0.20', '', '0.30'});\n",
    "title('Upgoing S-wave on v_x - filters', 'Fontsize',20)\n",
    "axis([1200 1677 1 59000])\n",
    "colormap('cs_bluewhitered')\n",
    "\n",
    "plt.show()"
   ]
  }
 ],
 "metadata": {
  "kernelspec": {
   "display_name": "Python 3",
   "language": "python",
   "name": "python3"
  },
  "language_info": {
   "codemirror_mode": {
    "name": "ipython",
    "version": 3
   },
   "file_extension": ".py",
   "mimetype": "text/x-python",
   "name": "python",
   "nbconvert_exporter": "python",
   "pygments_lexer": "ipython3",
   "version": "3.6.4"
  }
 },
 "nbformat": 4,
 "nbformat_minor": 2
}
