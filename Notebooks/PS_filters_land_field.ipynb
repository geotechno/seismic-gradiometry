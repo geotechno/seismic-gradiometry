{
 "cells": [
  {
   "cell_type": "code",
   "execution_count": 1,
   "metadata": {},
   "outputs": [],
   "source": [
    "# import libraries \n",
    "# ----------------\n",
    "%matplotlib notebook\n",
    "import warnings\n",
    "warnings.filterwarnings(\"ignore\")\n",
    "import numpy as np\n",
    "import matplotlib.pyplot as plt"
   ]
  },
  {
   "cell_type": "code",
   "execution_count": 54,
   "metadata": {},
   "outputs": [
    {
     "data": {
      "text/plain": [
       "[('dt', (1, 1), 'double'),\n",
       " ('tmax', (1, 1), 'double'),\n",
       " ('nt', (1, 1), 'double'),\n",
       " ('timevector', (1, 4000), 'double'),\n",
       " ('shot', (1, 1), 'double'),\n",
       " ('coord_rec', (88, 3), 'double'),\n",
       " ('coord_src', (1, 3), 'double'),\n",
       " ('distance_rec', (1, 87), 'double'),\n",
       " ('distance_src_rec', (1, 88), 'double'),\n",
       " ('vx', (4000, 88), 'double'),\n",
       " ('vz', (4000, 88), 'double')]"
      ]
     },
     "execution_count": 54,
     "metadata": {},
     "output_type": "execute_result"
    }
   ],
   "source": [
    "# check .mat file \n",
    "# ---------------\n",
    "from scipy.io import whosmat\n",
    "whosmat('Neuhausen_data.mat') # to list variables inside mat file"
   ]
  },
  {
   "cell_type": "code",
   "execution_count": 67,
   "metadata": {},
   "outputs": [],
   "source": [
    "# load .mat file \n",
    "# --------------\n",
    "from scipy.io import loadmat\n",
    "mat = loadmat('Neuhausen_data.mat')  # to load mat file\n",
    "# convert them to numpy array\n",
    "vx = mat['vx']\n",
    "vz = mat['vz']\n",
    "dt = mat['dt'][0,0]\n",
    "nt = mat['nt'][0,0]\n",
    "tmax = mat['tmax'][0,0]\n",
    "shot = mat['shot'][0,0]\n",
    "coord_rec  = mat['coord_rec']\n",
    "coord_src  = mat['coord_src']\n",
    "timevector = mat['timevector'][0,:]\n",
    "distance_rec     = mat['distance_rec'][0,:]\n",
    "distance_src_rec = mat['distance_src_rec'][0,:]"
   ]
  },
  {
   "cell_type": "code",
   "execution_count": 9,
   "metadata": {},
   "outputs": [],
   "source": [
    "# initialize parameters \n",
    "# ---------------------\n",
    "alpha = 600  # P-wave velocity\n",
    "beta = 300   # S-wave velocity"
   ]
  },
  {
   "cell_type": "code",
   "execution_count": 84,
   "metadata": {},
   "outputs": [],
   "source": [
    "# calculate wavefield gradients \n",
    "# -----------------------------\n",
    "from sympy.calculus import finite_diff_weights # see http://docs.sympy.org/latest/modules/calculus/index.html\n",
    "\n",
    "# allocate zero gradients\n",
    "gradx_vx = np.zeros((vx.shape[0],vx.shape[1]))\n",
    "gradx_vz = np.zeros((vz.shape[0],vz.shape[1]))\n",
    "\n",
    "# calculate spatial wavefield gradients \n",
    "for n in range(1,(vx.shape[1]-1)):\n",
    "    # FD coefficents according to Fornberg (1988)\n",
    "    c = finite_diff_weights(2,[-distance_rec[n-1], distance_rec[n] - distance_rec[n], distance_rec[n]],0)\n",
    "    c = c[-1][-1] # FD weights for 1st derivative\n",
    "    # horizontal gradient of vx\n",
    "    gradx_vx[:,n] = ((c[0]*vx[:,n-1]) + (c[1]*vx[:,n]) + (c[2]*vx[:,n+1])) \n",
    "    # horizontal gradient of vz\n",
    "    gradx_vz[:,n] = ((c[0]*vz[:,n-1]) + (c[1]*vz[:,n]) + (c[2]*vz[:,n+1])) \n",
    "\n",
    "# P/S separation \n",
    "# --------------\n",
    "# upgoing P-wave on vz\n",
    "vz_P_up = (1/2.) * (vz + ((beta*((2*beta)/alpha)) * (gradx_vx.cumsum(axis=0)*dt))) \n",
    "# upgoing S-wave on vx\n",
    "vx_S_up = (1/2.) * (vx - ((2*beta) * (gradx_vz.cumsum(axis=0)*dt))) \n",
    "\n",
    "# scale data\n",
    "vx_scal = np.std(vx)\n",
    "vx_scal = np.tile(vx_scal,(vx.shape[0],1))\n",
    "vx_plot = vx/vx_scal\n",
    "vx_S_up_scal = np.std(vx_S_up)\n",
    "vx_S_up_scal = np.tile(vx_S_up_scal,(vx_S_up.shape[0],1))\n",
    "vx_S_up_plot = vx_S_up/vx_S_up_scal"
   ]
  },
  {
   "cell_type": "code",
   "execution_count": null,
   "metadata": {},
   "outputs": [],
   "source": [
    "# plotting configuration \n",
    "# ----------------------\n",
    "figure()\n",
    "\n",
    "# recorded vx\n",
    "subplot(1,2,1)\n",
    "set(gcf, 'color', 'w');\n",
    "set (gca, 'Fontsize', 20);\n",
    "wigb(vx_plot,distance_src_rec, timevector)\n",
    "xlabel('Offset (m)')\n",
    "ylabel('Time (s)')\n",
    "title('Recorded v_x')\n",
    "axis([0 80 0.0 0.18])\n",
    "\n",
    "# P/S separated upgoing vx\n",
    "subplot(1,2,2)\n",
    "set(gcf, 'color', 'w');\n",
    "set (gca, 'Fontsize', 20);\n",
    "wigb(vx_S_up_plot,distance_src_rec, timevector)\n",
    "xlabel('Offset (m)')\n",
    "ylabel('Time (s)')\n",
    "title('Upgoing S-wave on v_x - filters')\n",
    "axis([0 80 0.0 0.18])\n",
    "\n",
    "plt.show()"
   ]
  }
 ],
 "metadata": {
  "kernelspec": {
   "display_name": "Python 3",
   "language": "python",
   "name": "python3"
  },
  "language_info": {
   "codemirror_mode": {
    "name": "ipython",
    "version": 3
   },
   "file_extension": ".py",
   "mimetype": "text/x-python",
   "name": "python",
   "nbconvert_exporter": "python",
   "pygments_lexer": "ipython3",
   "version": "3.6.4"
  }
 },
 "nbformat": 4,
 "nbformat_minor": 2
}
